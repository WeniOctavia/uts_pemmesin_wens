{
 "cells": [
  {
   "cell_type": "code",
   "execution_count": 1,
   "id": "a08f5632",
   "metadata": {},
   "outputs": [],
   "source": [
    "import pandas as pd\n",
    "import matplotlib.pyplot as plt"
   ]
  },
  {
   "cell_type": "markdown",
   "id": "00c18082",
   "metadata": {},
   "source": [
    "*Mengimpor library Pandas untuk manipulasi data dan Matplotlib untuk visualisasi data*"
   ]
  },
  {
   "cell_type": "code",
   "execution_count": 14,
   "id": "e0d4aa1f",
   "metadata": {},
   "outputs": [
    {
     "data": {
      "text/html": [
       "<div>\n",
       "<style scoped>\n",
       "    .dataframe tbody tr th:only-of-type {\n",
       "        vertical-align: middle;\n",
       "    }\n",
       "\n",
       "    .dataframe tbody tr th {\n",
       "        vertical-align: top;\n",
       "    }\n",
       "\n",
       "    .dataframe thead th {\n",
       "        text-align: right;\n",
       "    }\n",
       "</style>\n",
       "<table border=\"1\" class=\"dataframe\">\n",
       "  <thead>\n",
       "    <tr style=\"text-align: right;\">\n",
       "      <th></th>\n",
       "      <th>Corruption Perception (X)</th>\n",
       "      <th>Government Transparency (Y)</th>\n",
       "    </tr>\n",
       "  </thead>\n",
       "  <tbody>\n",
       "    <tr>\n",
       "      <th>42</th>\n",
       "      <td>2.3</td>\n",
       "      <td>76</td>\n",
       "    </tr>\n",
       "    <tr>\n",
       "      <th>37</th>\n",
       "      <td>2.4</td>\n",
       "      <td>75</td>\n",
       "    </tr>\n",
       "    <tr>\n",
       "      <th>47</th>\n",
       "      <td>3.3</td>\n",
       "      <td>63</td>\n",
       "    </tr>\n",
       "    <tr>\n",
       "      <th>29</th>\n",
       "      <td>4.3</td>\n",
       "      <td>54</td>\n",
       "    </tr>\n",
       "    <tr>\n",
       "      <th>14</th>\n",
       "      <td>4.0</td>\n",
       "      <td>56</td>\n",
       "    </tr>\n",
       "  </tbody>\n",
       "</table>\n",
       "</div>"
      ],
      "text/plain": [
       "    Corruption Perception (X)  Government Transparency (Y)\n",
       "42                        2.3                           76\n",
       "37                        2.4                           75\n",
       "47                        3.3                           63\n",
       "29                        4.3                           54\n",
       "14                        4.0                           56"
      ]
     },
     "execution_count": 14,
     "metadata": {},
     "output_type": "execute_result"
    }
   ],
   "source": [
    "# baca dataset\n",
    "df = pd.read_csv('R04_corruptions.csv')\n",
    "df.sample(5)"
   ]
  },
  {
   "cell_type": "markdown",
   "id": "8fc07b5b",
   "metadata": {},
   "source": [
    "*Membaca file CSV ('R04_corruptions.csv') ke dalam DataFrame Pandas yang disebut df\n",
    "*Menampilkan 5 sampel acak dari dataset untuk memberikan gambaran cepat tentang datanya*"
   ]
  },
  {
   "cell_type": "code",
   "execution_count": 17,
   "id": "0d3bf76c",
   "metadata": {},
   "outputs": [
    {
     "data": {
      "text/html": [
       "<div>\n",
       "<style scoped>\n",
       "    .dataframe tbody tr th:only-of-type {\n",
       "        vertical-align: middle;\n",
       "    }\n",
       "\n",
       "    .dataframe tbody tr th {\n",
       "        vertical-align: top;\n",
       "    }\n",
       "\n",
       "    .dataframe thead th {\n",
       "        text-align: right;\n",
       "    }\n",
       "</style>\n",
       "<table border=\"1\" class=\"dataframe\">\n",
       "  <thead>\n",
       "    <tr style=\"text-align: right;\">\n",
       "      <th></th>\n",
       "      <th>Corruption Perception (X)</th>\n",
       "      <th>Government Transparency (Y)</th>\n",
       "    </tr>\n",
       "  </thead>\n",
       "  <tbody>\n",
       "    <tr>\n",
       "      <th>count</th>\n",
       "      <td>55.000000</td>\n",
       "      <td>55.000000</td>\n",
       "    </tr>\n",
       "    <tr>\n",
       "      <th>mean</th>\n",
       "      <td>3.307273</td>\n",
       "      <td>64.145455</td>\n",
       "    </tr>\n",
       "    <tr>\n",
       "      <th>std</th>\n",
       "      <td>0.784539</td>\n",
       "      <td>9.314302</td>\n",
       "    </tr>\n",
       "    <tr>\n",
       "      <th>min</th>\n",
       "      <td>2.000000</td>\n",
       "      <td>50.000000</td>\n",
       "    </tr>\n",
       "    <tr>\n",
       "      <th>25%</th>\n",
       "      <td>2.650000</td>\n",
       "      <td>56.000000</td>\n",
       "    </tr>\n",
       "    <tr>\n",
       "      <th>50%</th>\n",
       "      <td>3.300000</td>\n",
       "      <td>63.000000</td>\n",
       "    </tr>\n",
       "    <tr>\n",
       "      <th>75%</th>\n",
       "      <td>4.000000</td>\n",
       "      <td>71.500000</td>\n",
       "    </tr>\n",
       "    <tr>\n",
       "      <th>max</th>\n",
       "      <td>4.500000</td>\n",
       "      <td>82.000000</td>\n",
       "    </tr>\n",
       "  </tbody>\n",
       "</table>\n",
       "</div>"
      ],
      "text/plain": [
       "       Corruption Perception (X)  Government Transparency (Y)\n",
       "count                  55.000000                    55.000000\n",
       "mean                    3.307273                    64.145455\n",
       "std                     0.784539                     9.314302\n",
       "min                     2.000000                    50.000000\n",
       "25%                     2.650000                    56.000000\n",
       "50%                     3.300000                    63.000000\n",
       "75%                     4.000000                    71.500000\n",
       "max                     4.500000                    82.000000"
      ]
     },
     "execution_count": 17,
     "metadata": {},
     "output_type": "execute_result"
    }
   ],
   "source": [
    "# melihat informasi data\n",
    "df.describe()"
   ]
  },
  {
   "cell_type": "markdown",
   "id": "2c1a348b",
   "metadata": {},
   "source": [
    "*Menyajikan statistik deskriptif dari dataset, termasuk count, mean, std (standar deviasi), min, 25%, 50%, 75%, dan max*"
   ]
  },
  {
   "cell_type": "code",
   "execution_count": 16,
   "id": "39170ba8",
   "metadata": {},
   "outputs": [
    {
     "name": "stdout",
     "output_type": "stream",
     "text": [
      "55\n"
     ]
    },
    {
     "data": {
      "text/plain": [
       "Corruption Perception (X)      0\n",
       "Government Transparency (Y)    0\n",
       "dtype: int64"
      ]
     },
     "execution_count": 16,
     "metadata": {},
     "output_type": "execute_result"
    }
   ],
   "source": [
    "# data preprocessing\n",
    "\n",
    "# cek jumlah data\n",
    "print(len(df))\n",
    "\n",
    "# cek jika ada data null atau NaN\n",
    "df.isnull().sum()"
   ]
  },
  {
   "cell_type": "markdown",
   "id": "c260e3ce",
   "metadata": {},
   "source": [
    "*Mengecek nilai null dalam dataset dan mencetak jumlah nilai null untuk setiap kolom*"
   ]
  },
  {
   "cell_type": "code",
   "execution_count": 8,
   "id": "cb1e910a",
   "metadata": {},
   "outputs": [],
   "source": [
    "# hapus jika ada nilai 0\n",
    "index_names = df[df['Corruption Perception (X)'] == 0].index \n",
    "df.drop(index_names, inplace = True) "
   ]
  },
  {
   "cell_type": "markdown",
   "id": "a3d15c42",
   "metadata": {},
   "source": [
    "*Menghapus baris di mana kolom 'Corruption Perception (X)' memiliki nilai 0*"
   ]
  },
  {
   "cell_type": "code",
   "execution_count": 9,
   "id": "0ed81620",
   "metadata": {},
   "outputs": [],
   "source": [
    "index_names = df[df['Government Transparency (Y)'] == 0].index \n",
    "df.drop(index_names, inplace = True) "
   ]
  },
  {
   "cell_type": "markdown",
   "id": "8257e7de",
   "metadata": {},
   "source": [
    "*Secara serupa, menghapus baris di mana kolom 'Government Transparency (Y)' memiliki nilai 0*"
   ]
  },
  {
   "cell_type": "code",
   "execution_count": 18,
   "id": "cb58dc08",
   "metadata": {},
   "outputs": [
    {
     "name": "stdout",
     "output_type": "stream",
     "text": [
      "Mean Squared Error (MSE): 14.373700509640043\n",
      "R-squared (R2): 0.8525836784483434\n",
      "Root Mean Squared Error (RMSE): 3.791266346438884\n"
     ]
    }
   ],
   "source": [
    "from sklearn.model_selection import train_test_split\n",
    "from sklearn.linear_model import LinearRegression\n",
    "from sklearn.metrics import mean_absolute_error, mean_absolute_percentage_error, mean_squared_error, r2_score\n",
    "\n",
    "# split data menjadi fitur dan target\n",
    "X = df.iloc[:, :-1]  \n",
    "y = df.iloc[:, -1]   \n",
    "\n",
    "# Bagi data menjadi data train dan test\n",
    "X_train, X_test, y_train, y_test = train_test_split(X, y, test_size=0.2, random_state=42)\n",
    "\n",
    "# Regresi Linear\n",
    "lr_model = LinearRegression()\n",
    "\n",
    "# Latih model\n",
    "lr_model.fit(X_train, y_train)\n",
    "\n",
    "# Prediksi di data uji\n",
    "y_pred = lr_model.predict(X_test)\n",
    "\n",
    "# Evaluasi model\n",
    "mse = mean_squared_error(y_test, y_pred)\n",
    "r2 = r2_score(y_test, y_pred)\n",
    "rmse = np.sqrt(mse)\n",
    "\n",
    "# Print coefficients dan metrik evaluasi\n",
    "print(f'Mean Squared Error (MSE): {mse}')\n",
    "print(f'R-squared (R2): {r2}')\n",
    "print(f'Root Mean Squared Error (RMSE): {rmse}')"
   ]
  },
  {
   "cell_type": "markdown",
   "id": "667ef331",
   "metadata": {},
   "source": [
    "*Membagi dataset menjadi set pelatihan dan pengujian menggunakan fungsi train_test_split dari scikit-learn\n",
    "Membuat model regresi linear dan melatihnya pada data pelatihan\n",
    "Memprediksi variabel target ('Government Transparency (Y)') untuk set pengujian\n",
    "Mengevaluasi kinerja model regresi linear menggunakan metrik seperti Mean Squared Error (MSE), R-squared (R2), dan Root Mean Squared Error (RMSE)\n",
    "Mencetak metrik evaluasi yang dihitung*"
   ]
  },
  {
   "cell_type": "code",
   "execution_count": 19,
   "id": "f0c59961",
   "metadata": {},
   "outputs": [
    {
     "data": {
      "text/html": [
       "<div>\n",
       "<style scoped>\n",
       "    .dataframe tbody tr th:only-of-type {\n",
       "        vertical-align: middle;\n",
       "    }\n",
       "\n",
       "    .dataframe tbody tr th {\n",
       "        vertical-align: top;\n",
       "    }\n",
       "\n",
       "    .dataframe thead th {\n",
       "        text-align: right;\n",
       "    }\n",
       "</style>\n",
       "<table border=\"1\" class=\"dataframe\">\n",
       "  <thead>\n",
       "    <tr style=\"text-align: right;\">\n",
       "      <th></th>\n",
       "      <th>X</th>\n",
       "      <th>Y</th>\n",
       "      <th>Predicted (Y)</th>\n",
       "    </tr>\n",
       "  </thead>\n",
       "  <tbody>\n",
       "    <tr>\n",
       "      <th>31</th>\n",
       "      <td>2.5</td>\n",
       "      <td>70</td>\n",
       "      <td>73.130378</td>\n",
       "    </tr>\n",
       "    <tr>\n",
       "      <th>5</th>\n",
       "      <td>2.4</td>\n",
       "      <td>75</td>\n",
       "      <td>74.254612</td>\n",
       "    </tr>\n",
       "    <tr>\n",
       "      <th>32</th>\n",
       "      <td>4.4</td>\n",
       "      <td>53</td>\n",
       "      <td>51.769924</td>\n",
       "    </tr>\n",
       "    <tr>\n",
       "      <th>13</th>\n",
       "      <td>2.3</td>\n",
       "      <td>76</td>\n",
       "      <td>75.378847</td>\n",
       "    </tr>\n",
       "    <tr>\n",
       "      <th>19</th>\n",
       "      <td>2.1</td>\n",
       "      <td>80</td>\n",
       "      <td>77.627316</td>\n",
       "    </tr>\n",
       "    <tr>\n",
       "      <th>49</th>\n",
       "      <td>4.3</td>\n",
       "      <td>54</td>\n",
       "      <td>52.894159</td>\n",
       "    </tr>\n",
       "    <tr>\n",
       "      <th>41</th>\n",
       "      <td>3.8</td>\n",
       "      <td>56</td>\n",
       "      <td>58.515331</td>\n",
       "    </tr>\n",
       "    <tr>\n",
       "      <th>26</th>\n",
       "      <td>4.2</td>\n",
       "      <td>55</td>\n",
       "      <td>54.018393</td>\n",
       "    </tr>\n",
       "    <tr>\n",
       "      <th>43</th>\n",
       "      <td>4.0</td>\n",
       "      <td>52</td>\n",
       "      <td>56.266862</td>\n",
       "    </tr>\n",
       "    <tr>\n",
       "      <th>12</th>\n",
       "      <td>3.0</td>\n",
       "      <td>65</td>\n",
       "      <td>67.509206</td>\n",
       "    </tr>\n",
       "  </tbody>\n",
       "</table>\n",
       "</div>"
      ],
      "text/plain": [
       "      X   Y  Predicted (Y)\n",
       "31  2.5  70      73.130378\n",
       "5   2.4  75      74.254612\n",
       "32  4.4  53      51.769924\n",
       "13  2.3  76      75.378847\n",
       "19  2.1  80      77.627316\n",
       "49  4.3  54      52.894159\n",
       "41  3.8  56      58.515331\n",
       "26  4.2  55      54.018393\n",
       "43  4.0  52      56.266862\n",
       "12  3.0  65      67.509206"
      ]
     },
     "execution_count": 19,
     "metadata": {},
     "output_type": "execute_result"
    }
   ],
   "source": [
    "# uji pada data test\n",
    "df_test = pd.DataFrame({'X': X_test['Corruption Perception (X)'], 'Y': y_test, 'Predicted (Y)': y_pred})\n",
    "df_test.head(10)"
   ]
  },
  {
   "cell_type": "markdown",
   "id": "af181c99",
   "metadata": {},
   "source": [
    "*Membuat DataFrame (df_test) yang berisi nilai aktual, nilai prediksi, dan 'Corruption Perception (X)' untuk set pengujian dan menampilkan 10 baris pertama*"
   ]
  },
  {
   "cell_type": "code",
   "execution_count": 11,
   "id": "633ef57a",
   "metadata": {},
   "outputs": [
    {
     "data": {
      "image/png": "[encoded data removed]",
      "text/plain": [
       "<Figure size 640x480 with 1 Axes>"
      ]
     },
     "metadata": {},
     "output_type": "display_data"
    }
   ],
   "source": [
    "# Plot grafik regresi\n",
    "plt.scatter(X_test, y_test, color='blue')\n",
    "plt.plot(X_test, y_pred, color='red', linewidth=3)\n",
    "plt.xlabel('Corruption Perception (X)')\n",
    "plt.ylabel('Government Transparency (Y)')\n",
    "plt.title('Model Visualization')\n",
    "plt.show()"
   ]
  },
  {
   "cell_type": "markdown",
   "id": "ea6ca6bc",
   "metadata": {},
   "source": [
    "*Membuat plot sebar (scatter plot) dari nilai aktual vs. nilai prediksi dan memvisualisasikan garis regresi. Juga mengatur label untuk sumbu-sumbu dan judul plot, dan terakhir, menampilkan plot tersebut*"
   ]
  }
 ],
 "metadata": {
  "kernelspec": {
   "display_name": "Python 3 (ipykernel)",
   "language": "python",
   "name": "python3"
  },
  "language_info": {
   "codemirror_mode": {
    "name": "ipython",
    "version": 3
   },
   "file_extension": ".py",
   "mimetype": "text/x-python",
   "name": "python",
   "nbconvert_exporter": "python",
   "pygments_lexer": "ipython3",
   "version": "3.10.9"
  }
 },
 "nbformat": 4,
 "nbformat_minor": 5
}
